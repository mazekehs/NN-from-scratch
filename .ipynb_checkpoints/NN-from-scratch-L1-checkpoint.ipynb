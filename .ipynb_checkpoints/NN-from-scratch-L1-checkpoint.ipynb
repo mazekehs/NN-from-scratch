{
 "cells": [
  {
   "cell_type": "markdown",
   "id": "98644388",
   "metadata": {},
   "source": [
    "# Coding Our 1st Neuron: 3 Inputs"
   ]
  },
  {
   "cell_type": "code",
   "execution_count": 1,
   "id": "5b169504",
   "metadata": {},
   "outputs": [
    {
     "name": "stdout",
     "output_type": "stream",
     "text": [
      "2.3\n"
     ]
    }
   ],
   "source": [
    "inputs=[1,2,3]\n",
    "weights=[0.2,0.8,-0.5]\n",
    "bias=2\n",
    "\n",
    "outputs=(inputs[0]*weights[0] + inputs[1]*weights[1] + inputs[2]*weights[2] + bias)\n",
    "print(outputs)"
   ]
  },
  {
   "cell_type": "markdown",
   "id": "692bc239",
   "metadata": {},
   "source": [
    "# Coding Our 2nd Neuron: 4 Inputs"
   ]
  },
  {
   "cell_type": "code",
   "execution_count": 2,
   "id": "f40085ce",
   "metadata": {},
   "outputs": [
    {
     "name": "stdout",
     "output_type": "stream",
     "text": [
      "4.8\n"
     ]
    }
   ],
   "source": [
    "inputs=[1.0,2.0,3.0,2.5]\n",
    "weights=[0.2,0.8,-0.5,1.0]\n",
    "bias=2.0\n",
    "\n",
    "output=(inputs[0]*weights[0] + inputs[1]*weights[1] + inputs[2]*weights[2] + inputs[3]*weights[3] + bias)\n",
    "print(output)"
   ]
  },
  {
   "cell_type": "markdown",
   "id": "af206232",
   "metadata": {},
   "source": [
    "# Coding Our 1st Layer \n"
   ]
  },
  {
   "cell_type": "code",
   "execution_count": 3,
   "id": "5494e6f0",
   "metadata": {},
   "outputs": [
    {
     "name": "stdout",
     "output_type": "stream",
     "text": [
      "[4.8, 1.21, 2.385]\n"
     ]
    }
   ],
   "source": [
    "inputs=[1,2,3,2.5]\n",
    "\n",
    "weights=[[0.2,0.8,-0.5,1],\n",
    "        [0.5,-0.91,0.26,-0.5],\n",
    "        [-0.26,-0.27,0.17,0.87]]\n",
    "\n",
    "weights1=weights[0]\n",
    "weights2=weights[1]\n",
    "weights3=weights[2]\n",
    "\n",
    "biases=[2,3,0.5]\n",
    "\n",
    "bias1=2\n",
    "bias2=3\n",
    "bias3=0.5\n",
    "\n",
    "output=[\n",
    "    #Neuron 1:\n",
    "    inputs[0]*weights1[0] +\n",
    "    inputs[1]*weights1[1] +\n",
    "    inputs[2]*weights1[2] +\n",
    "    inputs[3]*weights1[3] + bias1,\n",
    "    #Neuron2:\n",
    "    inputs[0]*weights2[0] +\n",
    "    inputs[1]*weights2[1] +\n",
    "    inputs[2]*weights2[2] +\n",
    "    inputs[3]*weights2[3] + bias2,\n",
    "    #Neuron3\n",
    "    inputs[0]*weights3[0] +\n",
    "    inputs[1]*weights3[1] +\n",
    "    inputs[2]*weights3[2] +\n",
    "    inputs[3]*weights3[3] + bias3,\n",
    "]\n",
    "print(output)"
   ]
  },
  {
   "cell_type": "markdown",
   "id": "1c1e2f50",
   "metadata": {},
   "source": [
    "# USING LOOPS : "
   ]
  },
  {
   "cell_type": "code",
   "execution_count": 4,
   "id": "5db71dca",
   "metadata": {},
   "outputs": [
    {
     "name": "stdout",
     "output_type": "stream",
     "text": [
      "[4.8, 1.21, 2.385]\n"
     ]
    }
   ],
   "source": [
    "inputs=[1, 2, 3, 2.5]\n",
    "weights=[[0.2,0.8,-0.5,1],\n",
    "        [0.5,-0.91,0.26,-0.5],\n",
    "        [-0.26,-0.27,0.17,0.87]]\n",
    "biases=[2,3,0.5]\n",
    "\n",
    "layer_outputs=[] #Output of current layer\n",
    "\n",
    "for neuron_weights, neuron_bias in zip(weights, biases):\n",
    "    neuron_output=0\n",
    "    \n",
    "    for n_input, weight in zip(inputs, neuron_weights):\n",
    "        neuron_output+=n_input*weight\n",
    "    neuron_output+=neuron_bias\n",
    "    layer_outputs.append(neuron_output)\n",
    "print(layer_outputs)\n",
    "    "
   ]
  },
  {
   "cell_type": "markdown",
   "id": "ab861875",
   "metadata": {},
   "source": [
    "# Using Numpy"
   ]
  },
  {
   "cell_type": "code",
   "execution_count": 5,
   "id": "228fab5a",
   "metadata": {},
   "outputs": [
    {
     "name": "stdout",
     "output_type": "stream",
     "text": [
      "4.8\n"
     ]
    }
   ],
   "source": [
    "import numpy as np\n",
    "inputs=[1.0,2.0,3.0,2.5]\n",
    "weights=[0.2,0.8,-0.5,1.0]\n",
    "bias=2.0\n",
    "outputs=np.dot(weights,inputs)+bias\n",
    "print(outputs)"
   ]
  },
  {
   "cell_type": "code",
   "execution_count": 6,
   "id": "50756e86",
   "metadata": {},
   "outputs": [
    {
     "name": "stdout",
     "output_type": "stream",
     "text": [
      "[4.8, 1.21, 2.385]\n"
     ]
    }
   ],
   "source": [
    "inputs=[1, 2, 3, 2.5]\n",
    "weights=[[0.2,0.8,-0.5,1],\n",
    "        [0.5,-0.91,0.26,-0.5],\n",
    "        [-0.26,-0.27,0.17,0.87]]\n",
    "biases=[2,3,0.5]\n",
    "\n",
    "layer_output=np.dot(weights,inputs)+biases #matrix is treated as a list of vectors\n",
    "print(layer_outputs)"
   ]
  },
  {
   "cell_type": "markdown",
   "id": "3d4a0017",
   "metadata": {},
   "source": [
    "# Layer of Neurons and Batch of Data using Numpy"
   ]
  },
  {
   "cell_type": "code",
   "execution_count": 7,
   "id": "4139abcf",
   "metadata": {},
   "outputs": [
    {
     "name": "stdout",
     "output_type": "stream",
     "text": [
      "[[ 4.8    1.21   2.385]\n",
      " [ 8.9   -1.81   0.2  ]\n",
      " [ 1.41   1.051  0.026]]\n"
     ]
    }
   ],
   "source": [
    "inputs=[[1, 2, 3, 2.5], [2.0,5.0,-1.0,2.0],[-1.5,2.7,3.3,-0.8]]\n",
    "weights=[[0.2,0.8,-0.5,1],\n",
    "        [0.5,-0.91,0.26,-0.5],\n",
    "        [-0.26,-0.27,0.17,0.87]]\n",
    "biases=[2,3,0.5]\n",
    "\n",
    "#We cannot transpose list in python, hence we need to convert weight matrix into an array\n",
    "outputs=np.dot(inputs,np.array(weights).T)+biases\n",
    "print(outputs)"
   ]
  },
  {
   "cell_type": "code",
   "execution_count": null,
   "id": "2b53267e",
   "metadata": {},
   "outputs": [],
   "source": []
  }
 ],
 "metadata": {
  "kernelspec": {
   "display_name": "Python 3 (ipykernel)",
   "language": "python",
   "name": "python3"
  },
  "language_info": {
   "codemirror_mode": {
    "name": "ipython",
    "version": 3
   },
   "file_extension": ".py",
   "mimetype": "text/x-python",
   "name": "python",
   "nbconvert_exporter": "python",
   "pygments_lexer": "ipython3",
   "version": "3.9.13"
  }
 },
 "nbformat": 4,
 "nbformat_minor": 5
}
